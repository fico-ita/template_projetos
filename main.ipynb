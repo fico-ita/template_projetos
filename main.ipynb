{
 "cells": [
  {
   "cell_type": "markdown",
   "metadata": {},
   "source": [
    "# Markowitz Minimum Variance Portfolio\n",
    "\n",
    "The Markowitz Minimum Variance Portfolio is a fundamental concept in modern portfolio theory, introduced by Harry Markowitz in 1952. The goal of this portfolio is to minimize the overall risk (or variance) for a given set of assets, without considering the expected return.\n",
    "\n",
    "## Key Concepts\n",
    "\n",
    "- **Portfolio Variance:** The measure of risk in a portfolio, defined as the weighted sum of the variances of individual assets and the covariances between them. It's calculated as:\n",
    "\n",
    "  $$\n",
    "  \\sigma_p^2 = \\sum_{i=1}^n \\sum_{j=1}^n w_i w_j \\sigma_{ij}\n",
    "  $$\n",
    "\n",
    "  Where:\n",
    "  - $\\sigma_p^2$ is the portfolio variance.\n",
    "  - $w_i $ and $w_j$ are the weights of assets $i$ and $j$ in the portfolio.\n",
    "  - $\\sigma_{ij}$ is the covariance between assets $i$ and $j$.\n",
    "\n",
    "- **Minimum Variance Portfolio:** Among all possible portfolios, this portfolio has the lowest possible variance. It is found by solving an optimization problem that minimizes portfolio variance subject to the constraint that the sum of the asset weights equals one:\n",
    "\n",
    "  $$\n",
    "  \\min \\sigma_p^2 \\quad \\text{subject to} \\quad \\sum_{i=1}^n w_i = 1\n",
    "  $$\n",
    "\n",
    "## Characteristics\n",
    "\n",
    "- **Risk Minimization:** The primary focus is on minimizing risk rather than maximizing return. This makes it particularly attractive for risk-averse investors.\n",
    "  \n",
    "- **Diversification:** By combining assets that are not perfectly correlated, the portfolio reduces unsystematic risk through diversification.\n",
    "\n",
    "- **Efficient Frontier:** The minimum variance portfolio is one of the portfolios on the efficient frontier, which represents the set of optimal portfolios offering the highest expected return for a given level of risk.\n",
    "\n",
    "## Limitations\n",
    "\n",
    "- **Assumptions:** The model assumes that asset returns are normally distributed and that past performance can predict future returns, which may not always hold true.\n",
    "  \n",
    "- **Data Sensitivity:** The results are highly sensitive to the input data, particularly the covariance matrix, which can lead to estimation errors.\n",
    "\n",
    "Despite its limitations, the Markowitz Minimum Variance Portfolio remains a cornerstone of portfolio management and a valuable tool for risk management."
   ]
  },
  {
   "cell_type": "markdown",
   "metadata": {},
   "source": [
    "## Usage example"
   ]
  },
  {
   "cell_type": "markdown",
   "metadata": {},
   "source": [
    "An usage example of strategy based on the markowitz min variance portfolio.\n",
    "\n",
    "Your task is to propose a particular strategy similar to the one located at the folder `strategy`. "
   ]
  },
  {
   "cell_type": "code",
   "execution_count": null,
   "metadata": {},
   "outputs": [],
   "source": [
    "import pandas as pd\n",
    "import quantstats as qs"
   ]
  },
  {
   "cell_type": "markdown",
   "metadata": {},
   "source": [
    "## Load Data\n",
    "\n",
    "You may organize the data the way you want. Here, we downloaded all data into the `dataset` directory in parquet format.\n",
    "\n",
    "We also use auxiliar functions from the `data_market` directory to handle these data."
   ]
  },
  {
   "cell_type": "code",
   "execution_count": null,
   "metadata": {},
   "outputs": [],
   "source": [
    "from data_market.datalake import load_data\n",
    "\n",
    "dict_data = load_data()\n",
    "\n",
    "# Let's check the keys of the dictionary, each one a DataFrame\n",
    "print(dict_data.keys())"
   ]
  },
  {
   "cell_type": "code",
   "execution_count": null,
   "metadata": {},
   "outputs": [],
   "source": [
    "# Let's check the first DataFrame: prices of US stocks\n",
    "dict_data['stocks']"
   ]
  },
  {
   "cell_type": "markdown",
   "metadata": {},
   "source": [
    "## Strategy execution\n",
    "\n",
    "Following, we test the execution of our strategy: for just a single day."
   ]
  },
  {
   "cell_type": "code",
   "execution_count": null,
   "metadata": {},
   "outputs": [],
   "source": [
    "# You must write all the code for your strategy entirely in the strategy directory\n",
    "# Your strategy must implement the StrategyInterface interface defined in simulator/strategy_interface.py\n",
    "from strategy.strategy_minRisk import MinRiskStrategy\n",
    "\n",
    "strategy = MinRiskStrategy()"
   ]
  },
  {
   "cell_type": "code",
   "execution_count": null,
   "metadata": {},
   "outputs": [],
   "source": [
    "# Execution for a single day\n",
    "weights = strategy.calculate_next_weights(data = dict_data, t = 500, size = 20)\n",
    "\n",
    "# Check if the returned DataFrame has the correct format\n",
    "assert strategy.check_return(weights)"
   ]
  },
  {
   "cell_type": "markdown",
   "metadata": {},
   "source": [
    "Your strategy must return a DataFrame with the columns: `date`, `ticker` and `weights`."
   ]
  },
  {
   "cell_type": "code",
   "execution_count": null,
   "metadata": {},
   "outputs": [],
   "source": [
    "weights"
   ]
  },
  {
   "cell_type": "markdown",
   "metadata": {},
   "source": [
    "## Simulation\n",
    "\n",
    "Following we simulate our strategy and generate the final report."
   ]
  },
  {
   "cell_type": "code",
   "execution_count": null,
   "metadata": {},
   "outputs": [],
   "source": [
    "from simulator.strategy_simulator import strategy_simulator\n",
    "\n",
    "# Initialize data structures to store results\n",
    "ret_port = pd.Series(dtype=\"float64\")  # Series to store portfolio returns\n",
    "weights_db = pd.DataFrame()  # DataFrame to store historical weights\n",
    "\n",
    "# Loop through a range of time values\n",
    "for t in range(500, len(dict_data['stocks'].index) - 1):\n",
    "\n",
    "    # Use the strategy simulator to get portfolio's historical weights [weights_db]\n",
    "    # and its next day returns [ret_port]\n",
    "    ret_port, weights_db = strategy_simulator(path = \"results/\",\n",
    "                                              strategy = strategy,\n",
    "                                              data = dict_data,\n",
    "                                              t = t,\n",
    "                                              ret_port = ret_port,\n",
    "                                              weights_db = weights_db,\n",
    "                                              size = 10)"
   ]
  },
  {
   "cell_type": "markdown",
   "metadata": {},
   "source": [
    "## Report\n",
    "\n",
    "We can use the results of the simulation, saved in the directory `results`, to generate a report of our strategy using `quantstats`.\n",
    "\n",
    "The simulation generate two parquet files:\n",
    "\n",
    "- [ret_port.parquet](results/ret_port.parquet): DataFrame with the return of the portfolio, for each simulated datetime\n",
    "- [wegiths_db.parquet](results/weights_db.parquet): DataFrame with the weights of each stock in the portfolio, for each simulated datetime"
   ]
  },
  {
   "cell_type": "code",
   "execution_count": null,
   "metadata": {},
   "outputs": [],
   "source": [
    "ret_port = pd.read_parquet(\"results/ret_port.parquet\")\n",
    "ret_port['date'] = pd.to_datetime(ret_port['date'], format = \"%Y-%m-%d\")\n",
    "ret_port = ret_port.set_index(\"date\").ret_port"
   ]
  },
  {
   "cell_type": "code",
   "execution_count": null,
   "metadata": {},
   "outputs": [],
   "source": [
    "ret_port.head(3)"
   ]
  },
  {
   "cell_type": "markdown",
   "metadata": {},
   "source": [
    "Following we generate a HTML report, comparing our strategy with the SP500."
   ]
  },
  {
   "cell_type": "code",
   "execution_count": null,
   "metadata": {},
   "outputs": [],
   "source": [
    "qs.reports.html(ret_port, \"SPY\", text_description=\"\"\"\n",
    "    <p>Demonstration of a simple strategy.</p>\n",
    "    <p><strong>Important</strong>: Transaction costs are not taken into account.</p>\"\"\")"
   ]
  },
  {
   "cell_type": "code",
   "execution_count": null,
   "metadata": {},
   "outputs": [],
   "source": []
  }
 ],
 "metadata": {
  "kernelspec": {
   "display_name": "Python 3",
   "language": "python",
   "name": "python3"
  },
  "language_info": {
   "codemirror_mode": {
    "name": "ipython",
    "version": 3
   },
   "file_extension": ".py",
   "mimetype": "text/x-python",
   "name": "python",
   "nbconvert_exporter": "python",
   "pygments_lexer": "ipython3",
   "version": "3.12.3"
  },
  "orig_nbformat": 4
 },
 "nbformat": 4,
 "nbformat_minor": 2
}
